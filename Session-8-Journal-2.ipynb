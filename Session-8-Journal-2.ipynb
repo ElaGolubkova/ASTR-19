{
 "cells": [
  {
   "cell_type": "markdown",
   "id": "ba58eaf7-da66-4656-98d5-7a78ab19aad3",
   "metadata": {},
   "source": [
    "# Session 8 Journal 2"
   ]
  },
  {
   "cell_type": "code",
   "execution_count": null,
   "id": "6db46432-c479-44d5-a752-e42cfea13c24",
   "metadata": {},
   "outputs": [],
   "source": [
    "import numpy as np\n",
    "import matplotlib.pyplot as plt\n",
    "%matplotlib inline"
   ]
  },
  {
   "cell_type": "code",
   "execution_count": null,
   "id": "86dea234-6467-4f1d-9900-03e26eaed3c2",
   "metadata": {},
   "outputs": [],
   "source": [
    "n = 100\n",
    "x = np.linspace(0,1,n)\n",
    "\n",
    "#defining sin(x)\n",
    "def sin():\n",
    "    return sin(x)\n",
    "\n",
    "#defining cos(x)\n",
    "def cos():\n",
    "    return cos(x)\n",
    "\n",
    "y = np.sin(x)\n",
    "z = np.cos(x)"
   ]
  },
  {
   "cell_type": "code",
   "execution_count": null,
   "id": "123ac0c9-d12a-4e8e-bacf-6c8ed3dc0a13",
   "metadata": {},
   "outputs": [],
   "source": [
    "figure,axes = plt.subplots(1,2)\n",
    "\n",
    "#first figure sin(x)\n",
    "axes[0].plot(x,y)\n",
    "axes[0].set_xlabel('x')\n",
    "axes[0].set_ylabel('sin(x)')\n",
    "axes[0].set_title('sin(x)')\n",
    "\n",
    "#second figure cos(x)\n",
    "axes[1].plot(x,z)\n",
    "axes[1].set_xlabel('x')\n",
    "axes[1].set_ylabel('cos(x)')\n",
    "axes[1].set_title('cos(x)')\n",
    "\n",
    "#spacing between subplots\n",
    "figure.subplots_adjust(wspace=0.4)\n",
    "\n",
    "plt.savefig('Session_8_figure.pdf',bbox_inches='tight',dpi=600)"
   ]
  }
 ],
 "metadata": {
  "kernelspec": {
   "display_name": "Python 3 (ipykernel)",
   "language": "python",
   "name": "python3"
  },
  "language_info": {
   "codemirror_mode": {
    "name": "ipython",
    "version": 3
   },
   "file_extension": ".py",
   "mimetype": "text/x-python",
   "name": "python",
   "nbconvert_exporter": "python",
   "pygments_lexer": "ipython3",
   "version": "3.12.1"
  }
 },
 "nbformat": 4,
 "nbformat_minor": 5
}
