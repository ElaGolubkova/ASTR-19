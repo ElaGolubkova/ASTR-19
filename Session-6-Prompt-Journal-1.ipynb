{
 "cells": [
  {
   "cell_type": "code",
   "execution_count": null,
   "id": "842c5cfe-b65b-4480-bdd0-82db6ea4029d",
   "metadata": {},
   "outputs": [],
   "source": [
    "import numpy as np\n",
    "from tabulate import tabulate"
   ]
  },
  {
   "cell_type": "markdown",
   "id": "49639211-e156-4593-9c8d-af9e0a89bf31",
   "metadata": {},
   "source": [
    "Creating the function to calculate Sin(x). x could be an array of values."
   ]
  },
  {
   "cell_type": "code",
   "execution_count": null,
   "id": "d3987fb0-9d04-4d88-adb5-0cc9267cc066",
   "metadata": {},
   "outputs": [],
   "source": [
    "def sin(x):\n",
    "    return np.sin(x)"
   ]
  },
  {
   "cell_type": "markdown",
   "id": "3d031d24-a861-49ba-803f-4a1421722506",
   "metadata": {},
   "source": [
    "Creating the function to calculate Cos(x). x could be an array of values."
   ]
  },
  {
   "cell_type": "code",
   "execution_count": null,
   "id": "9cf05fa7-e6a5-4484-91b4-3efc1a4680a6",
   "metadata": {},
   "outputs": [],
   "source": [
    "def cos(x):\n",
    "    return np.cos(x)"
   ]
  },
  {
   "cell_type": "markdown",
   "id": "1dc0aedb-d9bc-4e14-953b-c2cb8782658e",
   "metadata": {},
   "source": [
    "Generating 1000 linearly distributed values between 0 and 2 * pi. \n",
    "Calculating sin(x) and cos(x) values for x."
   ]
  },
  {
   "cell_type": "code",
   "execution_count": null,
   "id": "553dfdf2-ccfe-4bf1-8ef3-64747174ba4f",
   "metadata": {},
   "outputs": [],
   "source": [
    "x_values = np.linspace(0, 2 * np.pi, 1000)\n",
    "sin_values = sin(x_values)\n",
    "cos_values = cos(x_values)"
   ]
  },
  {
   "cell_type": "markdown",
   "id": "154ceb81-cfc9-4978-aa98-53075c9ef536",
   "metadata": {},
   "source": [
    "Printing the first 10 results for x, sin(x), and cos(x) in a table."
   ]
  },
  {
   "cell_type": "code",
   "execution_count": null,
   "id": "19f563bc-9aad-4964-83b1-664fbc9861a6",
   "metadata": {},
   "outputs": [],
   "source": [
    "table_data = [(a, b, c) for a, b, c in zip(x_values, sin_values, cos_values)]\n",
    "table_headers = [\"x\", \"sin(x)\", \"cos(x)\"]\n",
    "print(tabulate(table_data[:10], headers=table_headers, floatfmt=\".3f\"))"
   ]
  }
 ],
 "metadata": {
  "kernelspec": {
   "display_name": "Python 3 (ipykernel)",
   "language": "python",
   "name": "python3"
  },
  "language_info": {
   "codemirror_mode": {
    "name": "ipython",
    "version": 3
   },
   "file_extension": ".py",
   "mimetype": "text/x-python",
   "name": "python",
   "nbconvert_exporter": "python",
   "pygments_lexer": "ipython3",
   "version": "3.12.1"
  }
 },
 "nbformat": 4,
 "nbformat_minor": 5
}
