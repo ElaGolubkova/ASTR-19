{
 "cells": [
  {
   "cell_type": "code",
   "execution_count": null,
   "id": "700e50b1-1d90-4471-ac37-aa66987fe34a",
   "metadata": {},
   "outputs": [],
   "source": [
    "import numpy as np\n",
    "from tabulate import tabulate\n",
    "from astropy.table import Table"
   ]
  },
  {
   "cell_type": "code",
   "execution_count": null,
   "id": "7744c9b5-ef3e-451a-bc6c-c6ce21b3e107",
   "metadata": {},
   "outputs": [],
   "source": [
    "#generate an array of x and y values\n",
    "x = np.linspace(-2.0, 2.0, 10)\n",
    "y = 1.0 / (1.0 + x**2)"
   ]
  },
  {
   "cell_type": "code",
   "execution_count": null,
   "id": "10b23555-0c5b-414a-8340-d03c81e24e0d",
   "metadata": {},
   "outputs": [],
   "source": [
    "# Table using tabulate\n",
    "# Create list of touples containing x and y values\n",
    "table_data = [(a,b) for a,b in zip(x,y)]"
   ]
  },
  {
   "cell_type": "code",
   "execution_count": null,
   "id": "9f25134f-42c1-4378-8ef7-f70590c711a6",
   "metadata": {},
   "outputs": [],
   "source": [
    "# Print the table using tabulate\n",
    "table_headers = [\"x\",\"y\"]\n",
    "print(tabulate(table_data, headers=table_headers,floatfmt=\".3f\"))"
   ]
  },
  {
   "cell_type": "code",
   "execution_count": null,
   "id": "8c175789-b1a8-45e6-8899-9dfa79c7713c",
   "metadata": {},
   "outputs": [],
   "source": [
    "# Table using astropy\n",
    "# Create an astropy table\n",
    "data_table = Table()        # Create empty astropy table\n",
    "data_table[\"x\"] = x         # Make axis with key \"x\" and values from the array x\n",
    "data_table[\"y\"] = y         # Make axis with key \"y\" and values from the array y"
   ]
  },
  {
   "cell_type": "code",
   "execution_count": null,
   "id": "8717dff9-abc3-435f-b7be-7966cbccb8c4",
   "metadata": {},
   "outputs": [],
   "source": [
    "data_table[\"x\"].format = \"{:.3f}\"\n",
    "data_table[\"x\"].format = \"{:.3f}\""
   ]
  },
  {
   "cell_type": "code",
   "execution_count": null,
   "id": "8f920988-9734-4dff-adbf-3f63355c6234",
   "metadata": {},
   "outputs": [],
   "source": [
    "print(data_table)"
   ]
  },
  {
   "cell_type": "code",
   "execution_count": null,
   "id": "cf19c926-e16b-4387-a851-1e6b24cbef99",
   "metadata": {},
   "outputs": [],
   "source": [
    "# Astropy Table using Jupyter notebook capabilities\n",
    "data_table.show_in_notebook()"
   ]
  },
  {
   "cell_type": "code",
   "execution_count": null,
   "id": "953f22cb-842b-4ea5-9d2b-44a9577d0dd7",
   "metadata": {},
   "outputs": [],
   "source": [
    "from astropy.io import ascii #ascii plain text i/o\n",
    "ascii.write(data_table, \"table_ascii.txt\", format=\"commwnted_header\", overwrite=True)\n",
    "\n",
    "data_ascii = ascii.read(\"table_ascii.txt\")          # Read the data in a new table\n",
    "print(data_ascii)"
   ]
  },
  {
   "cell_type": "code",
   "execution_count": null,
   "id": "93497f60-a00a-4115-954b-1c81b5509d02",
   "metadata": {},
   "outputs": [],
   "source": [
    "# Read and write in file using numpy\n",
    "np.savetxt(\"table_numpy.txt\", data_table)       # Write data to file\n",
    "data_numpy = np.loadtxt(\"table_numpy.txt\")\n",
    "print(data_numpy)"
   ]
  },
  {
   "cell_type": "code",
   "execution_count": null,
   "id": "a96bea7a-b878-40ab-88ed-8ef4640f1359",
   "metadata": {},
   "outputs": [],
   "source": [
    "data_unpack = np.loadtxt(\"table_numpy.txt\", unpack=True, skiprows=2)\n",
    "print(data_unpack)\n"
   ]
  }
 ],
 "metadata": {
  "kernelspec": {
   "display_name": "Python 3 (ipykernel)",
   "language": "python",
   "name": "python3"
  },
  "language_info": {
   "codemirror_mode": {
    "name": "ipython",
    "version": 3
   },
   "file_extension": ".py",
   "mimetype": "text/x-python",
   "name": "python",
   "nbconvert_exporter": "python",
   "pygments_lexer": "ipython3",
   "version": "3.12.1"
  }
 },
 "nbformat": 4,
 "nbformat_minor": 5
}
